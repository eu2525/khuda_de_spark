{
 "cells": [
  {
   "cell_type": "code",
   "execution_count": 1,
   "id": "bad5819f-1855-47ed-ad2a-1657e433c2b7",
   "metadata": {
    "tags": []
   },
   "outputs": [],
   "source": [
    "from pyspark.sql import SparkSession\n",
    "\n",
    "# 스파크 세션 생성\n",
    "spark = SparkSession.builder.master(\"local\").appName(\"SparkSQL\").getOrCreate()"
   ]
  },
  {
   "cell_type": "code",
   "execution_count": 2,
   "id": "e53964c5-db02-4d43-9d03-2dd9eb595b69",
   "metadata": {
    "tags": []
   },
   "outputs": [
    {
     "name": "stdout",
     "output_type": "stream",
     "text": [
      "+-------+\n",
      "|(1 + 1)|\n",
      "+-------+\n",
      "|      2|\n",
      "+-------+\n",
      "\n"
     ]
    }
   ],
   "source": [
    "spark.sql(\"SELECT 1 + 1\").show()"
   ]
  },
  {
   "cell_type": "code",
   "execution_count": 3,
   "id": "6b1d3d8f-c1fc-449a-a752-0336375e9443",
   "metadata": {
    "tags": []
   },
   "outputs": [],
   "source": [
    "#json 파일을 읽어서 View를 생성\n",
    "flight_df = spark.read.json(\"./resources/2015-summary.json\")\n",
    "\n",
    "flight_df.createOrReplaceTempView(\"some_sql_view\")"
   ]
  },
  {
   "cell_type": "code",
   "execution_count": 4,
   "id": "2f11ba21-01e2-4924-a83d-5c34e1d007bf",
   "metadata": {
    "tags": []
   },
   "outputs": [
    {
     "name": "stdout",
     "output_type": "stream",
     "text": [
      "root\n",
      " |-- DEST_COUNTRY_NAME: string (nullable = true)\n",
      " |-- ORIGIN_COUNTRY_NAME: string (nullable = true)\n",
      " |-- count: long (nullable = true)\n",
      "\n"
     ]
    }
   ],
   "source": [
    "#printSchema()를 통해서 json의 Schema를 볼 수 있음.\n",
    "flight_df.printSchema()"
   ]
  },
  {
   "cell_type": "code",
   "execution_count": 5,
   "id": "99c56270-d646-470b-9039-eba13cf14c15",
   "metadata": {
    "tags": []
   },
   "outputs": [
    {
     "name": "stdout",
     "output_type": "stream",
     "text": [
      "+--------------------+-----+\n",
      "|   DEST_COUNTRY_NAME|count|\n",
      "+--------------------+-----+\n",
      "|            Anguilla|   41|\n",
      "|              Russia|  176|\n",
      "|            Paraguay|   60|\n",
      "|             Senegal|   40|\n",
      "|              Sweden|  118|\n",
      "|            Kiribati|   26|\n",
      "|              Guyana|   64|\n",
      "|         Philippines|  134|\n",
      "|            Djibouti|    1|\n",
      "|            Malaysia|    2|\n",
      "|           Singapore|    3|\n",
      "|                Fiji|   24|\n",
      "|              Turkey|  138|\n",
      "|                Iraq|    1|\n",
      "|             Germany| 1468|\n",
      "|              Jordan|   44|\n",
      "|               Palau|   30|\n",
      "|Turks and Caicos ...|  230|\n",
      "|              France|  935|\n",
      "|              Greece|   30|\n",
      "+--------------------+-----+\n",
      "only showing top 20 rows\n",
      "\n"
     ]
    }
   ],
   "source": [
    "spark.sql(\"\"\"\n",
    "    SELECT DEST_COUNTRY_NAME, sum(count) as count\n",
    "    FROM some_sql_view \n",
    "    GROUP BY DEST_COUNTRY_NAME\"\"\"\n",
    "    ).show()"
   ]
  },
  {
   "cell_type": "code",
   "execution_count": 7,
   "id": "817dd09a-acff-4e5c-8a39-d9be6a4fcc8f",
   "metadata": {
    "tags": []
   },
   "outputs": [
    {
     "name": "stdout",
     "output_type": "stream",
     "text": [
      "+--------------------+-----+\n",
      "|   DEST_COUNTRY_NAME|count|\n",
      "+--------------------+-----+\n",
      "|             Senegal|   40|\n",
      "|              Sweden|  118|\n",
      "|           Singapore|    3|\n",
      "|            Suriname|    1|\n",
      "|               Spain|  420|\n",
      "|    Saint Barthelemy|   39|\n",
      "|Saint Kitts and N...|  139|\n",
      "|         South Korea| 1048|\n",
      "|Saint Vincent and...|    1|\n",
      "|        Sint Maarten|  325|\n",
      "|        Saudi Arabia|   83|\n",
      "|         Switzerland|  294|\n",
      "|         Saint Lucia|  123|\n",
      "|               Samoa|   25|\n",
      "|        South Africa|   36|\n",
      "+--------------------+-----+\n",
      "\n"
     ]
    }
   ],
   "source": [
    "spark.sql(\"\"\"\n",
    "    SELECT DEST_COUNTRY_NAME, sum(count) as count\n",
    "    FROM some_sql_view \n",
    "    GROUP BY DEST_COUNTRY_NAME\"\"\"\n",
    "    ).where(\"DEST_COUNTRY_NAME like 'S%'\"\n",
    "    ).show()"
   ]
  },
  {
   "cell_type": "code",
   "execution_count": null,
   "id": "7f9d0efd-13ca-423a-9545-4f8092495a29",
   "metadata": {
    "tags": []
   },
   "outputs": [],
   "source": [
    "## 같이 해봐요"
   ]
  },
  {
   "cell_type": "code",
   "execution_count": 9,
   "id": "a92ae063-1327-4200-8eaa-be881222bee3",
   "metadata": {
    "tags": []
   },
   "outputs": [],
   "source": [
    "#csv파일을 읽어보세요.\n",
    "khuda_df = spark.read.option(\"header\", \"True\").____(\"./resources/khuda_de.csv\")\n",
    "\n",
    "khuda_df.createOrReplaceTempView(\"khuda_view\")"
   ]
  },
  {
   "cell_type": "code",
   "execution_count": null,
   "id": "33e51b4a-bdd4-41a5-80bb-435091f485ac",
   "metadata": {
    "tags": []
   },
   "outputs": [],
   "source": [
    "## khuda_view를 출력해보세요\n",
    "spark.sql(\"\"\"\n",
    "    SELECT ______________\n",
    "    FROM _______\n",
    "    \"\"\").show()"
   ]
  },
  {
   "cell_type": "code",
   "execution_count": null,
   "id": "694ae040-7e22-427e-a88f-3ab67f69bc54",
   "metadata": {},
   "outputs": [],
   "source": [
    "## 고인물인 사람만 sql문을 통해서 뽑아보세요.\n",
    "spark.sql(\"\"\"\n",
    "    SELECT Number, First_Name, Last_Name, Gender, Goinmul\n",
    "    FROM khuda_view\n",
    "    ______  _________\n",
    "    \"\"\").show()"
   ]
  },
  {
   "cell_type": "code",
   "execution_count": 37,
   "id": "1ebefdcc-b41a-4e0f-9354-7dbddaa7a49e",
   "metadata": {
    "tags": []
   },
   "outputs": [
    {
     "name": "stdout",
     "output_type": "stream",
     "text": [
      "+------+----------+---------+------+-------+\n",
      "|Number|First_Name|Last_Name|Gender|Goinmul|\n",
      "+------+----------+---------+------+-------+\n",
      "|     5|     Soeun|      Yun|     F|      N|\n",
      "|     6|     Hyeji|       Yu|     F|      Y|\n",
      "+------+----------+---------+------+-------+\n",
      "\n"
     ]
    }
   ],
   "source": [
    "## Last Name이 Y로 시작하는 사람만 출력해주세요\n",
    "## Hint Like 이용.\n",
    "spark.sql(\"\"\"\n",
    "    SELECT Number, First_Name, Last_Name, Gender, Goinmul\n",
    "    FROM khuda_view\n",
    "    WHERE _____________\n",
    "    \"\"\").show()"
   ]
  },
  {
   "cell_type": "code",
   "execution_count": 38,
   "id": "ca77b800-0022-469c-b1e8-b8baaa735ceb",
   "metadata": {
    "tags": []
   },
   "outputs": [
    {
     "name": "stdout",
     "output_type": "stream",
     "text": [
      "+------+----------+---------+------+-------+\n",
      "|Number|First_Name|Last_Name|Gender|Goinmul|\n",
      "+------+----------+---------+------+-------+\n",
      "|     8|     Yunji|      Heo|     F|      Y|\n",
      "|     4|    Soyeon|      Lee|     F|      N|\n",
      "|     5|     Soeun|      Yun|     F|      N|\n",
      "|     3| Sangyoung|     Park|     M|      Y|\n",
      "|     7|   Sangjin|      Han|     M|      Y|\n",
      "|     2| Myeongeun|      Noh|     F|      Y|\n",
      "|     6|     Hyeji|       Yu|     F|      Y|\n",
      "|     1| Gunhyeong|      Kim|     M|      Y|\n",
      "+------+----------+---------+------+-------+\n",
      "\n"
     ]
    }
   ],
   "source": [
    "## First Name의 역순으로 출력하게 해주세요\n",
    "spark.sql(\"\"\"\n",
    "    SELECT Number, First_Name, Last_Name, Gender, Goinmul\n",
    "    FROM khuda_view\n",
    "    ________ ______________\n",
    "    \"\"\").show()"
   ]
  },
  {
   "cell_type": "code",
   "execution_count": 13,
   "id": "3277a4a9-08f9-4e27-8073-d06b15d3d0b9",
   "metadata": {
    "tags": []
   },
   "outputs": [
    {
     "name": "stdout",
     "output_type": "stream",
     "text": [
      "+------+----------+---------+------+-------+\n",
      "|NUMBER|FIRST_NAME|LAST_NAME|GENDER|GOINMUL|\n",
      "+------+----------+---------+------+-------+\n",
      "|     1| Gunhyeong|      Kim|   MAN|      Y|\n",
      "|     2| Myeongeun|      Noh| Woman|      Y|\n",
      "|     3| Sangyoung|     Park|   MAN|      Y|\n",
      "|     4|    Soyeon|      Lee| Woman|      N|\n",
      "|     5|     Soeun|      Yun| Woman|      N|\n",
      "|     6|     Hyeji|       Yu| Woman|      Y|\n",
      "|     7|   Sangjin|      Han|   MAN|      Y|\n",
      "|     8|     Yunji|      Heo| Woman|      Y|\n",
      "+------+----------+---------+------+-------+\n",
      "\n"
     ]
    }
   ],
   "source": [
    "## CASE WHEN THEN구문을 이용해보자\n",
    "spark.sql(\"\"\"\n",
    "    SELECT NUMBER, FIRST_NAME, LAST_NAME,\n",
    "    Case ____________\n",
    "            GOINMUL\n",
    "    FROM khuda_view\n",
    "    \"\"\").show()"
   ]
  },
  {
   "cell_type": "code",
   "execution_count": 35,
   "id": "ef202b60-cd04-4e57-8919-49a59d5e3532",
   "metadata": {
    "tags": []
   },
   "outputs": [],
   "source": [
    "## khuda_df를 Database에 넣어봅시다.\n",
    "khuda_df.write.format(\"jdbc\") \\\n",
    "    .option(\"url\",\"jdbc:postgresql://postgres:5432/khuda_de\")\\\n",
    "    .option(\"driver\", \"org.postgresql.Driver\") \\\n",
    "    .option(\"dbtable\", \"khuda_de\") \\\n",
    "    .option(\"user\", \"khuda_de\") \\\n",
    "    .option(\"password\", \"khuda_de\") \\\n",
    "    .save()"
   ]
  }
 ],
 "metadata": {
  "kernelspec": {
   "display_name": "Python 3 (ipykernel)",
   "language": "python",
   "name": "python3"
  },
  "language_info": {
   "codemirror_mode": {
    "name": "ipython",
    "version": 3
   },
   "file_extension": ".py",
   "mimetype": "text/x-python",
   "name": "python",
   "nbconvert_exporter": "python",
   "pygments_lexer": "ipython3",
   "version": "3.10.9"
  }
 },
 "nbformat": 4,
 "nbformat_minor": 5
}
